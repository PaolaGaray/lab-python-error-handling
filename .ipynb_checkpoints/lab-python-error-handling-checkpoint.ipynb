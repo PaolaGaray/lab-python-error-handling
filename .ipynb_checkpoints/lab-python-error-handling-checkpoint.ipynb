{
 "cells": [
  {
   "cell_type": "markdown",
   "id": "25d7736c-ba17-4aff-b6bb-66eba20fbf4e",
   "metadata": {},
   "source": [
    "# Lab | Error Handling"
   ]
  },
  {
   "cell_type": "markdown",
   "id": "bc99b386-7508-47a0-bcdb-d969deaf6c8b",
   "metadata": {},
   "source": [
    "## Exercise: Error Handling for Managing Customer Orders\n",
    "\n",
    "The implementation of your code for managing customer orders assumes that the user will always enter a valid input. \n",
    "\n",
    "For example, we could modify the `initialize_inventory` function to include error handling.\n",
    "   - If the user enters an invalid quantity (e.g., a negative value or a non-numeric value), display an error message and ask them to re-enter the quantity for that product.\n",
    "   - Use a try-except block to handle the error and continue prompting the user until a valid quantity is entered.\n",
    "\n",
    "```python\n",
    "# Step 1: Define the function for initializing the inventory with error handling\n",
    "def initialize_inventory(products):\n",
    "    inventory = {}\n",
    "    for product in products:\n",
    "        valid_quantity = False\n",
    "        while not valid_quantity:\n",
    "            try:\n",
    "                quantity = int(input(f\"Enter the quantity of {product}s available: \"))\n",
    "                if quantity < 0:\n",
    "                    raise ValueError(\"Invalid quantity! Please enter a non-negative value.\")\n",
    "                valid_quantity = True\n",
    "            except ValueError as error:\n",
    "                print(f\"Error: {error}\")\n",
    "        inventory[product] = quantity\n",
    "    return inventory\n",
    "\n",
    "# Or, in another way:\n",
    "\n",
    "def initialize_inventory(products):\n",
    "    inventory = {}\n",
    "    for product in products:\n",
    "        valid_input = False\n",
    "        while not valid_input:\n",
    "            try:\n",
    "                quantity = int(input(f\"Enter the quantity of {product}s available: \"))\n",
    "                if quantity >= 0:\n",
    "                    inventory[product] = quantity\n",
    "                    valid_input = True\n",
    "                else:\n",
    "                    print(\"Quantity cannot be negative. Please enter a valid quantity.\")\n",
    "            except ValueError:\n",
    "                print(\"Invalid input. Please enter a valid quantity.\")\n",
    "    return inventory\n",
    "```\n",
    "\n",
    "Let's enhance your code by implementing error handling to handle invalid inputs.\n",
    "\n",
    "Follow the steps below to complete the exercise:\n",
    "\n",
    "2. Modify the `calculate_total_price` function to include error handling.\n",
    "   - If the user enters an invalid price (e.g., a negative value or a non-numeric value), display an error message and ask them to re-enter the price for that product.\n",
    "   - Use a try-except block to handle the error and continue prompting the user until a valid price is entered.\n"
   ]
  },
  {
   "cell_type": "code",
   "execution_count": 11,
   "id": "9f4f9d35-6fdf-4630-af8a-4001d926a92b",
   "metadata": {},
   "outputs": [
    {
     "name": "stdin",
     "output_type": "stream",
     "text": [
      "Enter the quantity of t-shirts available in inventory:  -10\n"
     ]
    },
    {
     "name": "stdout",
     "output_type": "stream",
     "text": [
      "Quantity cannot be negative. Please try again.\n"
     ]
    },
    {
     "name": "stdin",
     "output_type": "stream",
     "text": [
      "Enter the quantity of t-shirts available in inventory:  gkdl\n"
     ]
    },
    {
     "name": "stdout",
     "output_type": "stream",
     "text": [
      "Invalid input. Please enter a valid number.\n"
     ]
    },
    {
     "name": "stdin",
     "output_type": "stream",
     "text": [
      "Enter the quantity of t-shirts available in inventory:  100\n",
      "Enter the quantity of mugs available in inventory:  90\n",
      "Enter the quantity of hats available in inventory:  50\n",
      "Enter the quantity of books available in inventory:  20\n",
      "Enter the quantity of keychains available in inventory:  55\n"
     ]
    },
    {
     "name": "stdout",
     "output_type": "stream",
     "text": [
      "Initialized inventory: {'t-shirt': 100, 'mug': 90, 'hat': 50, 'book': 20, 'keychain': 55}\n"
     ]
    }
   ],
   "source": [
    "products = [\"t-shirt\", \"mug\", \"hat\", \"book\", \"keychain\"]\n",
    "\n",
    "def initialize_inventory(products):\n",
    "    inventory = {}\n",
    "    \n",
    "    for product in products:\n",
    "        while True:\n",
    "            try:\n",
    "                quantity = int(input(f\"Enter the quantity of {product}s available in inventory: \"))\n",
    "                if quantity >= 0:\n",
    "                    inventory[product] = quantity\n",
    "                    break \n",
    "                else:\n",
    "                    print(\"Quantity cannot be negative. Please try again.\")\n",
    "            except ValueError:\n",
    "                print(\"Invalid input. Please enter a valid number.\")\n",
    "    \n",
    "    return inventory\n",
    "\n",
    "\n",
    "inventory = initialize_inventory(products)\n",
    "print(f\"Initialized inventory: {inventory}\")"
   ]
  },
  {
   "cell_type": "markdown",
   "id": "b657e2fa-a45d-413c-ab87-f9ae087f9488",
   "metadata": {},
   "source": [
    "3. Modify the `get_customer_orders` function to include error handling.\n",
    "   - If the user enters an invalid number of orders (e.g., a negative value or a non-numeric value), display an error message and ask them to re-enter the number of orders.\n",
    "   - If the user enters an invalid product name (e.g., a product name that is not in the inventory), or that doesn't have stock available, display an error message and ask them to re-enter the product name. *Hint: you will need to pass inventory as a parameter*\n",
    "   - Use a try-except block to handle the error and continue prompting the user until a valid product name is entered.\n",
    "  \n",
    "4. Test your code by running the program and deliberately entering invalid quantities and product names. Make sure the error handling mechanism works as expected.\n"
   ]
  },
  {
   "cell_type": "code",
   "execution_count": null,
   "id": "4e9ef0bc-b025-4308-8d93-f7ad76d86b7a",
   "metadata": {},
   "outputs": [
    {
     "name": "stdout",
     "output_type": "stream",
     "text": [
      "{'t-shirt': 100, 'mug': 90, 'hat': 50, 'book': 20, 'keychain': 55}\n",
      "These are our products: 't-shirt', 'mug', 'hat', 'book', 'keychain'\n"
     ]
    },
    {
     "name": "stdin",
     "output_type": "stream",
     "text": [
      "Please enter the name of the product you would like to order:  hat\n"
     ]
    },
    {
     "name": "stdout",
     "output_type": "stream",
     "text": [
      "hat is out of stock. Please select a different product.\n",
      "These are our products: 't-shirt', 'mug', 'hat', 'book', 'keychain'\n"
     ]
    }
   ],
   "source": [
    "print(inventory)\n",
    "\n",
    "def get_customer_orders(products, inventory):\n",
    "    customer_order = {}\n",
    "    \n",
    "    while True:\n",
    "        print(\"These are our products: 't-shirt', 'mug', 'hat', 'book', 'keychain'\")\n",
    "        product = input(\"Please enter the name of the product you would like to order: \").lower()\n",
    "\n",
    "        # Validate if product exist\n",
    "        if product not in products:\n",
    "            print(\"Invalid product name, please try again.\")\n",
    "        else:\n",
    "            print(f\"{product} is out of stock. Please select a different product.\")\n",
    "            continue\n",
    "\n",
    "        while True:\n",
    "            try:\n",
    "                quantity = int(input(f\"How many {product}s do you want to order?: \"))\n",
    "                if quantity < 1:\n",
    "                    print(\"Please enter a positive number.\")\n",
    "                else:\n",
    "                    break\n",
    "            except ValueError:\n",
    "                print(\"Invalid input. Please enter a valid number.\")\n",
    "\n",
    "        # Update customer_order\n",
    "        if product in customer_order:\n",
    "            customer_order[product] += quantity\n",
    "        else:\n",
    "            customer_order[product] = quantity\n",
    "        inventory[product] -= quantity  \n",
    "\n",
    "        print(\"Product added!\")\n",
    "\n",
    "        answer = input(\"Do you want to continue? Type 'y' for yes, or 'n' for no: \").lower()\n",
    "        if answer == 'n':\n",
    "            break\n",
    "            \n",
    "    return customer_order\n",
    "\n",
    "\n",
    "order = get_customer_orders(products, inventory)\n",
    "print(\"Your order:\", order)"
   ]
  },
  {
   "cell_type": "code",
   "execution_count": null,
   "id": "56cf7f29-ddfb-40ba-861c-723ce21e66fd",
   "metadata": {},
   "outputs": [],
   "source": []
  }
 ],
 "metadata": {
  "kernelspec": {
   "display_name": "Python 3 (ipykernel)",
   "language": "python",
   "name": "python3"
  },
  "language_info": {
   "codemirror_mode": {
    "name": "ipython",
    "version": 3
   },
   "file_extension": ".py",
   "mimetype": "text/x-python",
   "name": "python",
   "nbconvert_exporter": "python",
   "pygments_lexer": "ipython3",
   "version": "3.12.4"
  }
 },
 "nbformat": 4,
 "nbformat_minor": 5
}
